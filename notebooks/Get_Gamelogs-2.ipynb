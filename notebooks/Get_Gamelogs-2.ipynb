{
 "cells": [
  {
   "cell_type": "markdown",
   "metadata": {
    "colab_type": "text",
    "id": "u0ICYCr0_i0x"
   },
   "source": [
    "# Utilities"
   ]
  },
  {
   "cell_type": "code",
   "execution_count": 1,
   "metadata": {
    "colab": {},
    "colab_type": "code",
    "id": "H_SmGdpg_i0z"
   },
   "outputs": [],
   "source": [
    "import pandas as pd\n",
    "import numpy as np\n",
    "import re\n",
    "import math\n",
    "import pickle\n",
    "import glob\n",
    "import xgboost\n",
    "import tsfresh\n",
    "import os\n",
    "import hockey_scraper\n",
    "from hyperopt import STATUS_OK, Trials, fmin, hp, tpe\n",
    "from pprint import pprint\n",
    "from sklearn import svm\n",
    "from sklearn.preprocessing import OneHotEncoder, LabelEncoder\n",
    "from sklearn.model_selection import train_test_split, RandomizedSearchCV\n",
    "from sklearn.ensemble import RandomForestRegressor\n",
    "from sklearn.linear_model import LinearRegression, SGDRegressor, Ridge\n",
    "from sklearn.neighbors import KNeighborsRegressor\n",
    "from sklearn.neural_network import MLPRegressor\n",
    "from sklearn.tree import export_graphviz\n",
    "from sklearn.metrics import mean_absolute_error, mean_squared_error, explained_variance_score, r2_score, log_loss\n",
    "from sklearn.model_selection import cross_validate, cross_val_predict\n",
    "from sklearn import preprocessing\n",
    "from sklearn.model_selection import cross_val_score\n",
    "import seaborn as sns\n",
    "import matplotlib.pyplot as plt\n",
    "%matplotlib inline\n",
    "\n",
    "sns.set_context('notebook')\n",
    "sns.set_color_codes()\n",
    "plot_kwds = {'alpha' : 0.5, 's' : 100, 'linewidths':0}\n",
    "large = 22; med = 16; small = 12\n",
    "params = {'axes.titlesize': large,\n",
    "          'legend.fontsize': med,\n",
    "          'figure.figsize': (16, 10),\n",
    "          'axes.labelsize': med,\n",
    "          'axes.titlesize': med,\n",
    "          'xtick.labelsize': med,\n",
    "          'ytick.labelsize': med,\n",
    "          'figure.titlesize': large}\n",
    "plt.rcParams.update(params)\n",
    "plt.style.use('seaborn-whitegrid')\n",
    "sns.set_style(\"white\")\n",
    "\n",
    "pd.set_option('display.max_columns', 500)\n",
    "pd.set_option('display.width', 1000)\n",
    "\n",
    "pd.options.mode.chained_assignment = None  # default='warn'\n",
    "\n",
    "# Variables\n",
    "scrape = True"
   ]
  },
  {
   "cell_type": "markdown",
   "metadata": {
    "colab_type": "text",
    "id": "u0ICYCr0_i0x"
   },
   "source": [
    "# Scrape"
   ]
  },
  {
   "cell_type": "code",
   "execution_count": null,
   "metadata": {},
   "outputs": [],
   "source": [
    "if scrape:\n",
    "    # Pbp data deposited in file - /Users/noiseuce/hockey_scraper_data/csvs/nhl_pbp20182019.csv\n",
    "    # Shift data deposited in file - /Users/noiseuce/hockey_scraper_data/csvs/nhl_shifts20182019.csv\n",
    "#     hockey_scraper.scrape_seasons([2018], True, docs_dir=True)\n",
    "    hockey_scraper.scrape_seasons([2014, 2015, 2016, 2017], True, docs_dir=True)"
   ]
  },
  {
   "cell_type": "markdown",
   "metadata": {
    "colab_type": "text",
    "id": "u0ICYCr0_i0x"
   },
   "source": [
    "# Reformat"
   ]
  },
  {
   "cell_type": "code",
   "execution_count": null,
   "metadata": {},
   "outputs": [],
   "source": [
    "%%time\n",
    "nhl_pbp = pd.read_csv('../data/hockey_scraper_data/csvs/nhl_pbp20182019.csv')\n",
    "nhl_shifts = pd.read_csv('../data/hockey_scraper_data/csvs/nhl_shifts20182019.csv').drop('Unnamed: 0', axis=1)"
   ]
  },
  {
   "cell_type": "code",
   "execution_count": null,
   "metadata": {},
   "outputs": [],
   "source": [
    "# Keep regular season games only\n",
    "nhl_pbp['Date'] = pd.to_datetime(nhl_pbp['Date'])\n",
    "nhl_pbp = nhl_pbp[nhl_pbp.Date <= pd.datetime(2019, 4, 6)]\n",
    "nhl_shifts['Date'] = pd.to_datetime(nhl_shifts['Date'])\n",
    "nhl_shifts = nhl_shifts[nhl_shifts.Date <= pd.datetime(2019, 4, 6)]\n",
    "\n",
    "# For each game ID, get all players that played in it\n",
    "player_games = nhl_shifts.sort_values(['Game_Id', 'Player']).drop_duplicates(subset=['Game_Id', 'Player'])[['Game_Id', 'Team', 'Player', 'Player_Id', 'Date']]\n",
    "\n",
    "# For each game ID, get all players with goal(s) or assist(s)\n",
    "player_games_points = nhl_pbp[nhl_pbp['Event'] == 'GOAL'][['Game_Id', 'p1_name', 'p1_ID', 'p2_name', 'p2_ID', 'p3_name', 'p3_ID']]\n",
    "player_games_points = player_games_points.fillna(0)"
   ]
  },
  {
   "cell_type": "code",
   "execution_count": null,
   "metadata": {},
   "outputs": [],
   "source": [
    "# Get goals scored per player in each games\n",
    "# Keep game_id, player name and id, and number of goals\n",
    "player_games_goals = player_games_points.groupby(['Game_Id', 'p1_name', 'p1_ID']).count().reset_index()\n",
    "player_games_goals = player_games_goals.iloc[:,:4]\n",
    "player_games_goals.columns = ['Game_Id', 'Player', 'Player_Id', 'Goal']\n",
    "\n",
    "# Get first assists per player in each games\n",
    "# Keep game_id, player name and id, and number of assists\n",
    "player_games_first_assists = player_games_points.groupby(['Game_Id', 'p2_name', 'p2_ID']).count().reset_index()\n",
    "player_games_first_assists = player_games_first_assists[player_games_first_assists['p2_name'] != 0]\n",
    "player_games_first_assists = player_games_first_assists.iloc[:,:4]\n",
    "player_games_first_assists.columns = ['Game_Id', 'Player', 'Player_Id', 'First_Assist']\n",
    "\n",
    "# Get second assists per player in each games\n",
    "# Keep game_id, player name and id, and number of assists\n",
    "player_games_second_assists = player_games_points.groupby(['Game_Id', 'p3_name', 'p3_ID']).count().reset_index()\n",
    "player_games_second_assists = player_games_second_assists[player_games_second_assists['p3_name'] != 0]\n",
    "player_games_second_assists = player_games_second_assists.iloc[:,:4]\n",
    "player_games_second_assists.columns = ['Game_Id', 'Player', 'Player_Id', 'Second_Assist']"
   ]
  },
  {
   "cell_type": "code",
   "execution_count": null,
   "metadata": {},
   "outputs": [],
   "source": [
    "# Merge goals and first assist and second assist\n",
    "player_logs = player_games.merge(player_games_goals, on=['Game_Id', 'Player', 'Player_Id'], how='outer')\n",
    "player_logs = player_logs.merge(player_games_first_assists, on=['Game_Id', 'Player', 'Player_Id'], how='outer')\n",
    "player_logs = player_logs.merge(player_games_second_assists, on=['Game_Id', 'Player', 'Player_Id'], how='outer')\n",
    "player_logs = player_logs.fillna(0)\n",
    "\n",
    "# Add total points\n",
    "player_logs['Total_Points'] = player_logs[['Goal', 'First_Assist', 'Second_Assist']].sum(axis=1)\n",
    "player_logs.head()"
   ]
  },
  {
   "cell_type": "code",
   "execution_count": null,
   "metadata": {},
   "outputs": [],
   "source": []
  }
 ],
 "metadata": {
  "accelerator": "GPU",
  "colab": {
   "name": "Pool-Prediction.ipynb",
   "provenance": [],
   "version": "0.3.2"
  },
  "kernelspec": {
   "display_name": "Python (pool)",
   "language": "python",
   "name": "pool"
  },
  "language_info": {
   "codemirror_mode": {
    "name": "ipython",
    "version": 3
   },
   "file_extension": ".py",
   "mimetype": "text/x-python",
   "name": "python",
   "nbconvert_exporter": "python",
   "pygments_lexer": "ipython3",
   "version": "3.6.8"
  }
 },
 "nbformat": 4,
 "nbformat_minor": 2
}
