{
 "cells": [
  {
   "cell_type": "markdown",
   "metadata": {
    "colab_type": "text",
    "id": "u0ICYCr0_i0x"
   },
   "source": [
    "# Utilities"
   ]
  },
  {
   "cell_type": "code",
   "execution_count": 1,
   "metadata": {
    "colab": {},
    "colab_type": "code",
    "id": "H_SmGdpg_i0z"
   },
   "outputs": [],
   "source": [
    "import pandas as pd\n",
    "import numpy as np\n",
    "import re\n",
    "import math\n",
    "import pickle\n",
    "import glob\n",
    "import xgboost\n",
    "import tsfresh\n",
    "import os\n",
    "import hockey_scraper\n",
    "from datetime import datetime\n",
    "from hyperopt import STATUS_OK, Trials, fmin, hp, tpe\n",
    "from pprint import pprint\n",
    "from sklearn import svm\n",
    "from sklearn.preprocessing import OneHotEncoder, LabelEncoder\n",
    "from sklearn.model_selection import train_test_split, RandomizedSearchCV\n",
    "from sklearn.ensemble import RandomForestRegressor\n",
    "from sklearn.linear_model import LinearRegression, SGDRegressor, Ridge\n",
    "from sklearn.neighbors import KNeighborsRegressor\n",
    "from sklearn.neural_network import MLPRegressor\n",
    "from sklearn.tree import export_graphviz\n",
    "from sklearn.metrics import mean_absolute_error, mean_squared_error, explained_variance_score, r2_score, log_loss\n",
    "from sklearn.model_selection import cross_validate, cross_val_predict\n",
    "from sklearn import preprocessing\n",
    "from sklearn.model_selection import cross_val_score\n",
    "import seaborn as sns\n",
    "import matplotlib.pyplot as plt\n",
    "%matplotlib inline\n",
    "\n",
    "sns.set_context('notebook')\n",
    "sns.set_color_codes()\n",
    "plot_kwds = {'alpha' : 0.5, 's' : 100, 'linewidths':0}\n",
    "large = 22; med = 16; small = 12\n",
    "params = {'axes.titlesize': large,\n",
    "          'legend.fontsize': med,\n",
    "          'figure.figsize': (16, 10),\n",
    "          'axes.labelsize': med,\n",
    "          'axes.titlesize': med,\n",
    "          'xtick.labelsize': med,\n",
    "          'ytick.labelsize': med,\n",
    "          'figure.titlesize': large}\n",
    "plt.rcParams.update(params)\n",
    "plt.style.use('seaborn-whitegrid')\n",
    "sns.set_style(\"white\")\n",
    "\n",
    "pd.set_option('display.max_columns', 500)\n",
    "pd.set_option('display.width', 1000)\n",
    "\n",
    "pd.options.mode.chained_assignment = None  # default='warn'\n",
    "\n",
    "# Variables\n",
    "scrape = False"
   ]
  },
  {
   "cell_type": "markdown",
   "metadata": {
    "colab_type": "text",
    "id": "u0ICYCr0_i0x"
   },
   "source": [
    "# Scrape"
   ]
  },
  {
   "cell_type": "code",
   "execution_count": 2,
   "metadata": {},
   "outputs": [],
   "source": [
    "if scrape:\n",
    "    # Pbp data deposited in file - /Users/noiseuce/hockey_scraper_data/csvs/nhl_pbp20182019.csv\n",
    "    # Shift data deposited in file - /Users/noiseuce/hockey_scraper_data/csvs/nhl_shifts20182019.csv\n",
    "    hockey_scraper.scrape_seasons([2013, 2014, 2015, 2016, 2017, 2018], True, docs_dir=True)"
   ]
  },
  {
   "cell_type": "markdown",
   "metadata": {
    "colab_type": "text",
    "id": "u0ICYCr0_i0x"
   },
   "source": [
    "# Reformat\n",
    "\n",
    "2013-2014 = 13 avril\n",
    "\n",
    "2014-2015 = 11 avril\n",
    "\n",
    "2015-2016 = 10 avril\n",
    "\n",
    "2016-2017 = 9 avril\n",
    "\n",
    "2017-2018 = 8 avril\n",
    "\n",
    "2018-2018 = 6 avril\n"
   ]
  },
  {
   "cell_type": "code",
   "execution_count": 35,
   "metadata": {},
   "outputs": [
    {
     "name": "stdout",
     "output_type": "stream",
     "text": [
      "20132014\n",
      "Points...\n",
      "Shifts...\n",
      "20142015\n",
      "Points...\n",
      "Shifts...\n",
      "20152016\n",
      "Points...\n",
      "Shifts...\n",
      "20162017\n",
      "Points...\n",
      "Shifts...\n",
      "20172018\n",
      "Points...\n",
      "Shifts...\n",
      "20182019\n",
      "Points...\n",
      "Shifts...\n",
      "CPU times: user 4min 51s, sys: 12 s, total: 5min 3s\n",
      "Wall time: 5min 4s\n"
     ]
    }
   ],
   "source": [
    "%%time\n",
    "years = ['20132014', '20142015', '20152016', '20162017', '20172018', '20182019']\n",
    "start_date = [pd.datetime(2013, 10, 1), \n",
    "              pd.datetime(2014, 10, 1), \n",
    "              pd.datetime(2015, 10, 1), \n",
    "              pd.datetime(2016, 10, 1),\n",
    "              pd.datetime(2017, 10, 1),\n",
    "              pd.datetime(2018, 10, 1)]\n",
    "end_date = [pd.datetime(2014, 4, 13), \n",
    "            pd.datetime(2015, 4, 11), \n",
    "            pd.datetime(2016, 4, 10), \n",
    "            pd.datetime(2017, 4, 9),\n",
    "            pd.datetime(2018, 4, 8),\n",
    "            pd.datetime(2019, 4, 6)]\n",
    "nhl_pbp = pd.DataFrame()\n",
    "nhl_shifts = pd.DataFrame()\n",
    "i = 0\n",
    "for y in years:\n",
    "    print(y)\n",
    "    print('Points...')\n",
    "    nhl_pbp_tmp = pd.read_csv(f'../data/hockey_scraper_data/csvs/nhl_pbp{y}.csv')\n",
    "    nhl_pbp_tmp['Date'] = pd.to_datetime(nhl_pbp_tmp['Date'])\n",
    "    mask_pbp_tmp = (nhl_pbp_tmp['Date'] > start_date[i]) & (nhl_pbp_tmp['Date'] <= end_date[i])\n",
    "    nhl_pbp_tmp = nhl_pbp_tmp.loc[mask_pbp_tmp]\n",
    "    nhl_pbp_tmp['Game_Id'] = nhl_pbp_tmp.apply(lambda x: str(x.Date.year) + '_' + str(x.Game_Id), axis=1)\n",
    "    nhl_pbp = pd.concat([nhl_pbp, nhl_pbp_tmp])\n",
    "    \n",
    "    print('Shifts...')\n",
    "    nhl_shifts_tmp = pd.read_csv(f'../data/hockey_scraper_data/csvs/nhl_shifts{y}.csv').drop('Unnamed: 0', axis=1)\n",
    "    nhl_shifts_tmp['Date'] = pd.to_datetime(nhl_shifts_tmp['Date'])\n",
    "    mask_shifts_tmp = (nhl_shifts_tmp['Date'] > start_date[i]) & (nhl_shifts_tmp['Date'] <= end_date[i])\n",
    "    nhl_shifts_tmp = nhl_shifts_tmp.loc[mask_shifts_tmp]\n",
    "    nhl_shifts_tmp['Game_Id'] = nhl_shifts_tmp.apply(lambda x: str(x.Date.year) + '_' + str(x.Game_Id), axis=1)\n",
    "    nhl_shifts = pd.concat([nhl_shifts, nhl_shifts_tmp])\n",
    "    \n",
    "    i+=1"
   ]
  },
  {
   "cell_type": "code",
   "execution_count": 36,
   "metadata": {},
   "outputs": [],
   "source": [
    "# For each game ID, get all players that played in it\n",
    "player_games = nhl_shifts.sort_values(['Game_Id', 'Player']).drop_duplicates(subset=['Game_Id', 'Player'])[['Game_Id', 'Team', 'Player', 'Player_Id', 'Date']]\n",
    "\n",
    "# For each game ID, get all players with goal(s) or assist(s)\n",
    "player_games_points = nhl_pbp[nhl_pbp['Event'] == 'GOAL'][['Game_Id', 'p1_name', 'p1_ID', 'p2_name', 'p2_ID', 'p3_name', 'p3_ID']]\n",
    "player_games_points = player_games_points.fillna(0)"
   ]
  },
  {
   "cell_type": "code",
   "execution_count": 37,
   "metadata": {},
   "outputs": [],
   "source": [
    "# Get goals scored per player in each games\n",
    "# Keep game_id, player name and id, and number of goals\n",
    "player_games_goals = player_games_points.groupby(['Game_Id', 'p1_name', 'p1_ID']).count().reset_index()\n",
    "player_games_goals = player_games_goals.iloc[:,:4]\n",
    "player_games_goals.columns = ['Game_Id', 'Player', 'Player_Id', 'Goal']\n",
    "\n",
    "# Get first assists per player in each games\n",
    "# Keep game_id, player name and id, and number of assists\n",
    "player_games_first_assists = player_games_points.groupby(['Game_Id', 'p2_name', 'p2_ID']).count().reset_index()\n",
    "player_games_first_assists = player_games_first_assists[player_games_first_assists['p2_name'] != 0]\n",
    "player_games_first_assists = player_games_first_assists.iloc[:,:4]\n",
    "player_games_first_assists.columns = ['Game_Id', 'Player', 'Player_Id', 'First_Assist']\n",
    "\n",
    "# Get second assists per player in each games\n",
    "# Keep game_id, player name and id, and number of assists\n",
    "player_games_second_assists = player_games_points.groupby(['Game_Id', 'p3_name', 'p3_ID']).count().reset_index()\n",
    "player_games_second_assists = player_games_second_assists[player_games_second_assists['p3_name'] != 0]\n",
    "player_games_second_assists = player_games_second_assists.iloc[:,:4]\n",
    "player_games_second_assists.columns = ['Game_Id', 'Player', 'Player_Id', 'Second_Assist']"
   ]
  },
  {
   "cell_type": "code",
   "execution_count": 38,
   "metadata": {},
   "outputs": [
    {
     "data": {
      "text/html": [
       "<div>\n",
       "<style scoped>\n",
       "    .dataframe tbody tr th:only-of-type {\n",
       "        vertical-align: middle;\n",
       "    }\n",
       "\n",
       "    .dataframe tbody tr th {\n",
       "        vertical-align: top;\n",
       "    }\n",
       "\n",
       "    .dataframe thead th {\n",
       "        text-align: right;\n",
       "    }\n",
       "</style>\n",
       "<table border=\"1\" class=\"dataframe\">\n",
       "  <thead>\n",
       "    <tr style=\"text-align: right;\">\n",
       "      <th></th>\n",
       "      <th>Game_Id</th>\n",
       "      <th>Team</th>\n",
       "      <th>Player</th>\n",
       "      <th>Player_Id</th>\n",
       "      <th>Date</th>\n",
       "      <th>Goal</th>\n",
       "      <th>First_Assist</th>\n",
       "      <th>Second_Assist</th>\n",
       "      <th>Total_Points</th>\n",
       "    </tr>\n",
       "  </thead>\n",
       "  <tbody>\n",
       "    <tr>\n",
       "      <th>0</th>\n",
       "      <td>2013_20004</td>\n",
       "      <td>PHI</td>\n",
       "      <td>ADAM HALL</td>\n",
       "      <td>8467925</td>\n",
       "      <td>2013-10-02 00:00:00</td>\n",
       "      <td>0.0</td>\n",
       "      <td>0.0</td>\n",
       "      <td>0.0</td>\n",
       "      <td>0.0</td>\n",
       "    </tr>\n",
       "    <tr>\n",
       "      <th>1</th>\n",
       "      <td>2013_20004</td>\n",
       "      <td>PHI</td>\n",
       "      <td>ANDREJ MESZAROS</td>\n",
       "      <td>8471236</td>\n",
       "      <td>2013-10-02 00:00:00</td>\n",
       "      <td>0.0</td>\n",
       "      <td>0.0</td>\n",
       "      <td>0.0</td>\n",
       "      <td>0.0</td>\n",
       "    </tr>\n",
       "    <tr>\n",
       "      <th>2</th>\n",
       "      <td>2013_20004</td>\n",
       "      <td>PHI</td>\n",
       "      <td>BRAYDEN SCHENN</td>\n",
       "      <td>8475170</td>\n",
       "      <td>2013-10-02 00:00:00</td>\n",
       "      <td>1.0</td>\n",
       "      <td>0.0</td>\n",
       "      <td>0.0</td>\n",
       "      <td>1.0</td>\n",
       "    </tr>\n",
       "    <tr>\n",
       "      <th>3</th>\n",
       "      <td>2013_20004</td>\n",
       "      <td>PHI</td>\n",
       "      <td>BRAYDON COBURN</td>\n",
       "      <td>8470601</td>\n",
       "      <td>2013-10-02 00:00:00</td>\n",
       "      <td>0.0</td>\n",
       "      <td>0.0</td>\n",
       "      <td>0.0</td>\n",
       "      <td>0.0</td>\n",
       "    </tr>\n",
       "    <tr>\n",
       "      <th>4</th>\n",
       "      <td>2013_20004</td>\n",
       "      <td>TOR</td>\n",
       "      <td>CARL GUNNARSSON</td>\n",
       "      <td>8474125</td>\n",
       "      <td>2013-10-02 00:00:00</td>\n",
       "      <td>0.0</td>\n",
       "      <td>0.0</td>\n",
       "      <td>0.0</td>\n",
       "      <td>0.0</td>\n",
       "    </tr>\n",
       "  </tbody>\n",
       "</table>\n",
       "</div>"
      ],
      "text/plain": [
       "      Game_Id Team           Player  Player_Id                 Date  Goal  First_Assist  Second_Assist  Total_Points\n",
       "0  2013_20004  PHI        ADAM HALL    8467925  2013-10-02 00:00:00   0.0           0.0            0.0           0.0\n",
       "1  2013_20004  PHI  ANDREJ MESZAROS    8471236  2013-10-02 00:00:00   0.0           0.0            0.0           0.0\n",
       "2  2013_20004  PHI   BRAYDEN SCHENN    8475170  2013-10-02 00:00:00   1.0           0.0            0.0           1.0\n",
       "3  2013_20004  PHI   BRAYDON COBURN    8470601  2013-10-02 00:00:00   0.0           0.0            0.0           0.0\n",
       "4  2013_20004  TOR  CARL GUNNARSSON    8474125  2013-10-02 00:00:00   0.0           0.0            0.0           0.0"
      ]
     },
     "execution_count": 38,
     "metadata": {},
     "output_type": "execute_result"
    }
   ],
   "source": [
    "# Merge goals and first assist and second assist\n",
    "player_logs = player_games.merge(player_games_goals, on=['Game_Id', 'Player', 'Player_Id'], how='outer')\n",
    "player_logs = player_logs.merge(player_games_first_assists, on=['Game_Id', 'Player', 'Player_Id'], how='outer')\n",
    "player_logs = player_logs.merge(player_games_second_assists, on=['Game_Id', 'Player', 'Player_Id'], how='outer')\n",
    "player_logs = player_logs.fillna(0)\n",
    "\n",
    "# Add total points\n",
    "player_logs['Total_Points'] = player_logs[['Goal', 'First_Assist', 'Second_Assist']].sum(axis=1)\n",
    "player_logs.head()"
   ]
  },
  {
   "cell_type": "code",
   "execution_count": 45,
   "metadata": {},
   "outputs": [],
   "source": [
    "player_logs[player_logs.Player == 'BRAD MARCHAND'].to_csv('../LSTM-Neural-Network-for-Time-Series-Prediction/data/Nikita_Kucherov.csv')"
   ]
  },
  {
   "cell_type": "code",
   "execution_count": 46,
   "metadata": {},
   "outputs": [
    {
     "data": {
      "text/plain": [
       "(463, 9)"
      ]
     },
     "execution_count": 46,
     "metadata": {},
     "output_type": "execute_result"
    }
   ],
   "source": [
    "player_logs[player_logs.Player == 'BRAD MARCHAND'].shape"
   ]
  },
  {
   "cell_type": "code",
   "execution_count": null,
   "metadata": {},
   "outputs": [],
   "source": []
  }
 ],
 "metadata": {
  "accelerator": "GPU",
  "colab": {
   "name": "Pool-Prediction.ipynb",
   "provenance": [],
   "version": "0.3.2"
  },
  "kernelspec": {
   "display_name": "Python (pool)",
   "language": "python",
   "name": "pool"
  },
  "language_info": {
   "codemirror_mode": {
    "name": "ipython",
    "version": 3
   },
   "file_extension": ".py",
   "mimetype": "text/x-python",
   "name": "python",
   "nbconvert_exporter": "python",
   "pygments_lexer": "ipython3",
   "version": "3.6.8"
  }
 },
 "nbformat": 4,
 "nbformat_minor": 2
}
